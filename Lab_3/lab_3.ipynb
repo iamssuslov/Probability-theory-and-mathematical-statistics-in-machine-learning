{
 "cells": [
  {
   "cell_type": "markdown",
   "source": [
    "Лабораторная работа №2: Случайные величины. Нормальный закон распределения. Моменты и критические границы случайной величины. Выполнил Суслов Сергей\n",
    "1.\tНайти на сайте РосСтат  https://rosstat.gov.ru/statistic  (или в других источниках) предположительно зависимые данные (например: «доля людей в возрасте 70+» и «приверженность жителей тех к ЗОЖ» по регионам), посчитать коэффициент корреляции, оценить меру связи.\n",
    "Построить гистограммы рассеяния, линию аппроксимации  и посчитать величину достоверности аппроксимации R^2.\n",
    "2.\tНайти датасет с объемом примерно 100 наблюдений (и более), сделать выборку = примерно 1/3 наблюдений\n",
    "    1) случайным образом,\n",
    "    2) сделать стратифицированную выборку (разбив выборку на группы по смысловому содержанию, например, для регионов стратами могут быть федеральные округа).\n",
    "3.\tПосчитать\n",
    "    1) среднее значение по выборкам из п.2 (2.1)случайной и 2.2)стратифицированной),\n",
    "    2) доверительный интервал для среднего (на уровне доверия 90%, 95%, 99%).\n",
    " Сравнить среднее генеральной выборки п.2  с полученными в выборках 2.1) и 2.2)  и с границами доверительных интервалов из п.3.2).\n"
   ],
   "metadata": {
    "collapsed": false,
    "pycharm": {
     "name": "#%% md\n"
    }
   }
  },
  {
   "cell_type": "markdown",
   "source": [
    "1. Расчет корреляции между средним доходом (avg_income) и коэффициентом счастья (happyScore), оценка меры связи. Построение гистограммы рассеяния, линии аппроксимации и рассчет величины достоверности аппроксимации R^2.\n",
    "Датасет: https://www.kaggle.com/datasets/levyedgar44/income-and-happiness-correction"
   ],
   "metadata": {
    "collapsed": false,
    "pycharm": {
     "name": "#%% md\n"
    }
   }
  },
  {
   "cell_type": "code",
   "execution_count": 33,
   "outputs": [],
   "source": [
    "import pandas as pd\n",
    "import matplotlib\n",
    "import matplotlib.pyplot as plt\n",
    "from sklearn.linear_model import LinearRegression\n",
    "from scipy import stats\n",
    "import seaborn as sns\n",
    "import numpy as np\n",
    "matplotlib.use('TkAgg')\n",
    "%matplotlib inline"
   ],
   "metadata": {
    "collapsed": false,
    "pycharm": {
     "name": "#%%\n"
    }
   }
  },
  {
   "cell_type": "code",
   "execution_count": 34,
   "outputs": [
    {
     "data": {
      "text/plain": "          country  adjusted_satisfaction  avg_satisfaction  std_satisfaction  \\\n0         Armenia                   37.0               4.9              2.42   \n1          Angola                   26.0               4.3              3.19   \n2       Argentina                   60.0               7.1              1.91   \n3         Austria                   59.0               7.2              2.11   \n4       Australia                   65.0               7.6              1.80   \n..            ...                    ...               ...               ...   \n106       Uruguay                   58.0               7.0              2.13   \n107       Vietnam                   53.0               6.1              1.77   \n108  South Africa                   49.0               6.3              2.47   \n109        Zambia                   37.0               5.0              2.61   \n110      Zimbabwe                   33.0               4.1              2.16   \n\n     avg_income  median_income  income_inequality  \\\n0       2096.76    1731.506667          31.445556   \n1       1448.88    1044.240000          42.720000   \n2       7101.12    5109.400000          45.475556   \n3      19457.04   16879.620000          30.296250   \n4      19917.00   15846.060000          35.285000   \n..          ...            ...                ...   \n106     7544.40    5269.226667          45.014444   \n107     2231.40    1643.580000          39.242500   \n108     3889.32    1506.400000          63.726667   \n109      956.76     510.060000          55.120000   \n110     1768.56    1230.600000          43.150000   \n\n                            region  happyScore      GDP     country.1  \n0     'Central and Eastern Europe'       4.350  0.76821       Armenia  \n1             'Sub-Saharan Africa'       4.033  0.75778        Angola  \n2    'Latin America and Caribbean'       6.574  1.05351     Argentina  \n3                 'Western Europe'       7.200  1.33723       Austria  \n4      'Australia and New Zealand'       7.284  1.33358     Australia  \n..                             ...         ...      ...           ...  \n106  'Latin America and Caribbean'       6.485  1.06166       Uruguay  \n107            'Southeastern Asia'       5.360  0.63216       Vietnam  \n108           'Sub-Saharan Africa'       4.642  0.92049  South Africa  \n109           'Sub-Saharan Africa'       5.129  0.47038        Zambia  \n110           'Sub-Saharan Africa'       4.610  0.27100      Zimbabwe  \n\n[111 rows x 11 columns]",
      "text/html": "<div>\n<style scoped>\n    .dataframe tbody tr th:only-of-type {\n        vertical-align: middle;\n    }\n\n    .dataframe tbody tr th {\n        vertical-align: top;\n    }\n\n    .dataframe thead th {\n        text-align: right;\n    }\n</style>\n<table border=\"1\" class=\"dataframe\">\n  <thead>\n    <tr style=\"text-align: right;\">\n      <th></th>\n      <th>country</th>\n      <th>adjusted_satisfaction</th>\n      <th>avg_satisfaction</th>\n      <th>std_satisfaction</th>\n      <th>avg_income</th>\n      <th>median_income</th>\n      <th>income_inequality</th>\n      <th>region</th>\n      <th>happyScore</th>\n      <th>GDP</th>\n      <th>country.1</th>\n    </tr>\n  </thead>\n  <tbody>\n    <tr>\n      <th>0</th>\n      <td>Armenia</td>\n      <td>37.0</td>\n      <td>4.9</td>\n      <td>2.42</td>\n      <td>2096.76</td>\n      <td>1731.506667</td>\n      <td>31.445556</td>\n      <td>'Central and Eastern Europe'</td>\n      <td>4.350</td>\n      <td>0.76821</td>\n      <td>Armenia</td>\n    </tr>\n    <tr>\n      <th>1</th>\n      <td>Angola</td>\n      <td>26.0</td>\n      <td>4.3</td>\n      <td>3.19</td>\n      <td>1448.88</td>\n      <td>1044.240000</td>\n      <td>42.720000</td>\n      <td>'Sub-Saharan Africa'</td>\n      <td>4.033</td>\n      <td>0.75778</td>\n      <td>Angola</td>\n    </tr>\n    <tr>\n      <th>2</th>\n      <td>Argentina</td>\n      <td>60.0</td>\n      <td>7.1</td>\n      <td>1.91</td>\n      <td>7101.12</td>\n      <td>5109.400000</td>\n      <td>45.475556</td>\n      <td>'Latin America and Caribbean'</td>\n      <td>6.574</td>\n      <td>1.05351</td>\n      <td>Argentina</td>\n    </tr>\n    <tr>\n      <th>3</th>\n      <td>Austria</td>\n      <td>59.0</td>\n      <td>7.2</td>\n      <td>2.11</td>\n      <td>19457.04</td>\n      <td>16879.620000</td>\n      <td>30.296250</td>\n      <td>'Western Europe'</td>\n      <td>7.200</td>\n      <td>1.33723</td>\n      <td>Austria</td>\n    </tr>\n    <tr>\n      <th>4</th>\n      <td>Australia</td>\n      <td>65.0</td>\n      <td>7.6</td>\n      <td>1.80</td>\n      <td>19917.00</td>\n      <td>15846.060000</td>\n      <td>35.285000</td>\n      <td>'Australia and New Zealand'</td>\n      <td>7.284</td>\n      <td>1.33358</td>\n      <td>Australia</td>\n    </tr>\n    <tr>\n      <th>...</th>\n      <td>...</td>\n      <td>...</td>\n      <td>...</td>\n      <td>...</td>\n      <td>...</td>\n      <td>...</td>\n      <td>...</td>\n      <td>...</td>\n      <td>...</td>\n      <td>...</td>\n      <td>...</td>\n    </tr>\n    <tr>\n      <th>106</th>\n      <td>Uruguay</td>\n      <td>58.0</td>\n      <td>7.0</td>\n      <td>2.13</td>\n      <td>7544.40</td>\n      <td>5269.226667</td>\n      <td>45.014444</td>\n      <td>'Latin America and Caribbean'</td>\n      <td>6.485</td>\n      <td>1.06166</td>\n      <td>Uruguay</td>\n    </tr>\n    <tr>\n      <th>107</th>\n      <td>Vietnam</td>\n      <td>53.0</td>\n      <td>6.1</td>\n      <td>1.77</td>\n      <td>2231.40</td>\n      <td>1643.580000</td>\n      <td>39.242500</td>\n      <td>'Southeastern Asia'</td>\n      <td>5.360</td>\n      <td>0.63216</td>\n      <td>Vietnam</td>\n    </tr>\n    <tr>\n      <th>108</th>\n      <td>South Africa</td>\n      <td>49.0</td>\n      <td>6.3</td>\n      <td>2.47</td>\n      <td>3889.32</td>\n      <td>1506.400000</td>\n      <td>63.726667</td>\n      <td>'Sub-Saharan Africa'</td>\n      <td>4.642</td>\n      <td>0.92049</td>\n      <td>South Africa</td>\n    </tr>\n    <tr>\n      <th>109</th>\n      <td>Zambia</td>\n      <td>37.0</td>\n      <td>5.0</td>\n      <td>2.61</td>\n      <td>956.76</td>\n      <td>510.060000</td>\n      <td>55.120000</td>\n      <td>'Sub-Saharan Africa'</td>\n      <td>5.129</td>\n      <td>0.47038</td>\n      <td>Zambia</td>\n    </tr>\n    <tr>\n      <th>110</th>\n      <td>Zimbabwe</td>\n      <td>33.0</td>\n      <td>4.1</td>\n      <td>2.16</td>\n      <td>1768.56</td>\n      <td>1230.600000</td>\n      <td>43.150000</td>\n      <td>'Sub-Saharan Africa'</td>\n      <td>4.610</td>\n      <td>0.27100</td>\n      <td>Zimbabwe</td>\n    </tr>\n  </tbody>\n</table>\n<p>111 rows × 11 columns</p>\n</div>"
     },
     "execution_count": 34,
     "metadata": {},
     "output_type": "execute_result"
    }
   ],
   "source": [
    "data = pd.read_csv('happyscore_income.csv')\n",
    "data"
   ],
   "metadata": {
    "collapsed": false,
    "pycharm": {
     "name": "#%%\n"
    }
   }
  },
  {
   "cell_type": "code",
   "execution_count": 35,
   "outputs": [
    {
     "name": "stdout",
     "output_type": "stream",
     "text": [
      "Коэффициент корреляции Пирсона: 0.78\n",
      "p-значение: 0.00\n"
     ]
    }
   ],
   "source": [
    "correlation, p_value = stats.pearsonr(data['avg_income'], data['happyScore'])\n",
    "print(f\"Коэффициент корреляции Пирсона: {correlation:.2f}\")\n",
    "print(f\"p-значение: {p_value:.2f}\")"
   ],
   "metadata": {
    "collapsed": false,
    "pycharm": {
     "name": "#%%\n"
    }
   }
  },
  {
   "cell_type": "markdown",
   "source": [
    "Коэффициент корреляции 0.78 свидетельствует о значительной положительной взаимосвязи между avgincome и happyScore.\n",
    "P-значение 0.00 говорит о том, что вероятность случайного получения такой корреляции (при верности нулевой гипотезы) стремится к нулю. Поскольку p-значение меньше 0.05, мы отвергаем нулевую гипотезу и принимаем альтернативную гипотезу о статистической значимости корреляции между avgincome и happyScore."
   ],
   "metadata": {
    "collapsed": false,
    "pycharm": {
     "name": "#%% md\n"
    }
   }
  },
  {
   "cell_type": "code",
   "execution_count": 36,
   "outputs": [
    {
     "data": {
      "text/plain": "<Figure size 1000x600 with 1 Axes>",
      "image/png": "[encoded data removed]"
     },
     "metadata": {},
     "output_type": "display_data"
    }
   ],
   "source": [
    "# Построение гистограммы рассеяния\n",
    "plt.figure(figsize=(10, 6))\n",
    "sns.scatterplot(x='avg_income', y='happyScore', data=data, color='blue')\n",
    "plt.title('Гистограмма рассеяния: avg_income vs happyScore')\n",
    "plt.xlabel('avg_income')\n",
    "plt.ylabel('happyScore')\n",
    "\n",
    "# Добавление линии аппроксимации\n",
    "X = data[['avg_income']]\n",
    "y = data['happyScore']\n",
    "model = LinearRegression()\n",
    "model.fit(X, y)\n",
    "y_pred = model.predict(X)\n",
    "plt.plot(X, y_pred, color='red', label='Линия аппроксимации')\n",
    "\n",
    "r_squared = model.score(X, y)\n",
    "\n",
    "plt.text(4.5, 6.5, f'R^2 = {r_squared:.2f}', fontsize=12, color='red')\n",
    "\n",
    "plt.legend()\n",
    "plt.show()"
   ],
   "metadata": {
    "collapsed": false,
    "pycharm": {
     "name": "#%%\n"
    }
   }
  },
  {
   "cell_type": "markdown",
   "source": [
    "2. Cделать выборку =~ 1/3 наблюдений:\n",
    "\n",
    "1) случайным образом,\n",
    "2) сделать стратифицированную выборку (разбив выборку на группы по смысловому содержанию - по регионам)."
   ],
   "metadata": {
    "collapsed": false,
    "pycharm": {
     "name": "#%% md\n"
    }
   }
  },
  {
   "cell_type": "code",
   "execution_count": 37,
   "outputs": [
    {
     "name": "stdout",
     "output_type": "stream",
     "text": [
      "Случайная выборка:\n",
      "      country  adjusted_satisfaction  avg_satisfaction  std_satisfaction  \\\n",
      "78      Nepal                   48.0               5.3              1.65   \n",
      "10    Burundi                   25.0               2.9              1.96   \n",
      "4   Australia                   65.0               7.6              1.80   \n",
      "84   Portugal                   47.0               5.8              2.16   \n",
      "64    Moldova                   42.0               5.3              2.25   \n",
      "\n",
      "    avg_income  median_income  income_inequality  \\\n",
      "78    1428.120    1155.000000          32.840000   \n",
      "10     572.880     436.920000          33.360000   \n",
      "4    19917.000   15846.060000          35.285000   \n",
      "84    9982.875    7800.645000          36.630000   \n",
      "64    3077.280    2547.413333          32.674444   \n",
      "\n",
      "                          region  happyScore      GDP  country.1  \n",
      "78               'Southern Asia'       4.514  0.35997      Nepal  \n",
      "10          'Sub-Saharan Africa'       2.905  0.01530    Burundi  \n",
      "4    'Australia and New Zealand'       7.284  1.33358  Australia  \n",
      "84              'Western Europe'       5.102  1.15991   Portugal  \n",
      "64  'Central and Eastern Europe'       5.889  0.59448    Moldova  \n"
     ]
    }
   ],
   "source": [
    "# Случайная выборка\n",
    "random_sample = data.sample(frac=1 / 3, random_state=42)\n",
    "print(\"Случайная выборка:\")\n",
    "print(random_sample.head())"
   ],
   "metadata": {
    "collapsed": false,
    "pycharm": {
     "name": "#%%\n"
    }
   }
  },
  {
   "cell_type": "code",
   "execution_count": 38,
   "outputs": [
    {
     "name": "stdout",
     "output_type": "stream",
     "text": [
      "Стратифицированная выборка:\n",
      "       country  adjusted_satisfaction  avg_satisfaction  std_satisfaction  \\\n",
      "83      Poland                   55.0               6.8              2.23   \n",
      "52  Kyrgyzstan                   48.0               5.8              2.09   \n",
      "0      Armenia                   37.0               4.9              2.42   \n",
      "42     Hungary                   42.0               5.5              2.48   \n",
      "87      Serbia                   44.0               5.6              2.32   \n",
      "\n",
      "     avg_income  median_income  income_inequality  \\\n",
      "83  6582.465882    5451.247059          33.588824   \n",
      "52  1852.640000    1530.133333          31.035556   \n",
      "0   2096.760000    1731.506667          31.445556   \n",
      "42  6903.883636    6056.716364          29.555455   \n",
      "87  4629.908571    3992.502857          29.727143   \n",
      "\n",
      "                          region  happyScore      GDP   country.1  \n",
      "83  'Central and Eastern Europe'       5.791  1.12555      Poland  \n",
      "52  'Central and Eastern Europe'       5.286  0.47428  Kyrgyzstan  \n",
      "0   'Central and Eastern Europe'       4.350  0.76821     Armenia  \n",
      "42  'Central and Eastern Europe'       4.800  1.12094     Hungary  \n",
      "87  'Central and Eastern Europe'       5.123  0.92053      Serbia  \n"
     ]
    },
    {
     "name": "stderr",
     "output_type": "stream",
     "text": [
      "C:\\Users\\Сергей\\AppData\\Local\\Temp\\ipykernel_11276\\4006482245.py:2: DeprecationWarning: DataFrameGroupBy.apply operated on the grouping columns. This behavior is deprecated, and in a future version of pandas the grouping columns will be excluded from the operation. Either pass `include_groups=False` to exclude the groupings or explicitly select the grouping columns after groupby to silence this warning.\n",
      "  stratified_sample = data.groupby('region', group_keys=False).apply(lambda x: x.sample(frac=1 / 3, random_state=42))\n"
     ]
    }
   ],
   "source": [
    "# Стратифицированная выборка\n",
    "stratified_sample = data.groupby('region', group_keys=False).apply(lambda x: x.sample(frac=1 / 3, random_state=42))\n",
    "print(\"Стратифицированная выборка:\")\n",
    "print(stratified_sample.head())"
   ],
   "metadata": {
    "collapsed": false,
    "pycharm": {
     "name": "#%%\n"
    }
   }
  },
  {
   "cell_type": "markdown",
   "source": [
    "3. Посчитать:\n",
    "\n",
    "1) среднее значение по выборкам из п.2 (2.1 случайной и 2.2 стратифицированной),\n",
    "2) доверительный интервал для среднего (на уровне доверия 90%, 95%, 99%).\n",
    "3) Сравнить среднее генеральной выборки п.2 с полученными в выборках 2.1 и 2.2 и с границами доверительных интервалов из п.3.2."
   ],
   "metadata": {
    "collapsed": false,
    "pycharm": {
     "name": "#%% md\n"
    }
   }
  },
  {
   "cell_type": "code",
   "execution_count": 39,
   "outputs": [
    {
     "name": "stdout",
     "output_type": "stream",
     "text": [
      "Среднее значение случайной выборки: 6401.83\n",
      "Среднее значение стратифицированной выборки: 6340.40\n",
      "\n",
      "Доверительные интервалы для случайной выборки:\n",
      "90%: (4764.22, 8039.45)\n",
      "95%: (4434.62, 8369.04)\n",
      "99%: (3763.99, 9039.68)\n",
      "\n",
      "Доверительные интервалы для стратифицированной выборки:\n",
      "90%: (4496.17, 8184.64)\n",
      "95%: (4124.99, 8555.82)\n",
      "99%: (3369.74, 9311.07)\n",
      "\n",
      "Среднее значение генеральной выборки: 6442.75\n",
      "\n",
      "Сравнение среднего генеральной выборки с выборками:\n",
      "Случайная выборка: 6442.75 входит в 95% доверительный интервал\n",
      "Стратифицированная выборка: 6442.75 входит в 95% доверительный интервал\n"
     ]
    }
   ],
   "source": [
    "# Функция для расчета доверительного интервала\n",
    "def get_confidence_interval(data, confidence=0.95):\n",
    "    length = len(data)\n",
    "    mean = np.mean(data)\n",
    "    sem = stats.sem(data)\n",
    "    h = sem * stats.t.ppf((1 + confidence) / 2, length - 1)\n",
    "    return mean, mean - h, mean + h\n",
    "\n",
    "\n",
    "# 1. Среднее значение по выборкам\n",
    "random_mean = random_sample['avg_income'].mean()\n",
    "stratified_mean = stratified_sample['avg_income'].mean()\n",
    "\n",
    "print(f\"Среднее значение случайной выборки: {random_mean:.2f}\")\n",
    "print(f\"Среднее значение стратифицированной выборки: {stratified_mean:.2f}\")\n",
    "\n",
    "# 2. Доверительные интервалы для среднего\n",
    "random_ci_90 = get_confidence_interval(random_sample['avg_income'], 0.90)\n",
    "random_ci_95 = get_confidence_interval(random_sample['avg_income'], 0.95)\n",
    "random_ci_99 = get_confidence_interval(random_sample['avg_income'], 0.99)\n",
    "\n",
    "stratified_ci_90 = get_confidence_interval(stratified_sample['avg_income'], 0.90)\n",
    "stratified_ci_95 = get_confidence_interval(stratified_sample['avg_income'], 0.95)\n",
    "stratified_ci_99 = get_confidence_interval(stratified_sample['avg_income'], 0.99)\n",
    "\n",
    "print(\"\\nДоверительные интервалы для случайной выборки:\")\n",
    "print(f\"90%: ({random_ci_90[1]:.2f}, {random_ci_90[2]:.2f})\")\n",
    "print(f\"95%: ({random_ci_95[1]:.2f}, {random_ci_95[2]:.2f})\")\n",
    "print(f\"99%: ({random_ci_99[1]:.2f}, {random_ci_99[2]:.2f})\")\n",
    "\n",
    "print(\"\\nДоверительные интервалы для стратифицированной выборки:\")\n",
    "print(f\"90%: ({stratified_ci_90[1]:.2f}, {stratified_ci_90[2]:.2f})\")\n",
    "print(f\"95%: ({stratified_ci_95[1]:.2f}, {stratified_ci_95[2]:.2f})\")\n",
    "print(f\"99%: ({stratified_ci_99[1]:.2f}, {stratified_ci_99[2]:.2f})\")\n",
    "\n",
    "# 3. Сравнение среднего генеральной выборки с выборками и границами доверительных интервалов\n",
    "avg_income_mean = data['avg_income'].mean()\n",
    "\n",
    "print(f\"\\nСреднее значение генеральной выборки: {avg_income_mean:.2f}\")\n",
    "\n",
    "print(\"\\nСравнение среднего генеральной выборки с выборками:\")\n",
    "print(\n",
    "    f\"Случайная выборка: {avg_income_mean:.2f} {'входит' if random_ci_95[1] <= avg_income_mean <= random_ci_95[2] else 'не входит'} в 95% доверительный интервал\")\n",
    "print(\n",
    "    f\"Стратифицированная выборка: {avg_income_mean:.2f} {'входит' if stratified_ci_95[1] <= avg_income_mean <= stratified_ci_95[2] else 'не входит'} в 95% доверительный интервал\")"
   ],
   "metadata": {
    "collapsed": false,
    "pycharm": {
     "name": "#%%\n"
    }
   }
  }
 ],
 "metadata": {
  "kernelspec": {
   "display_name": "Python 3",
   "language": "python",
   "name": "python3"
  },
  "language_info": {
   "codemirror_mode": {
    "name": "ipython",
    "version": 2
   },
   "file_extension": ".py",
   "mimetype": "text/x-python",
   "name": "python",
   "nbconvert_exporter": "python",
   "pygments_lexer": "ipython2",
   "version": "2.7.6"
  }
 },
 "nbformat": 4,
 "nbformat_minor": 0
}